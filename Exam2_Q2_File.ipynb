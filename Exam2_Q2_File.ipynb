{
  "nbformat": 4,
  "nbformat_minor": 0,
  "metadata": {
    "colab": {
      "provenance": [],
      "authorship_tag": "ABX9TyMvMaWvsJRlwLuI7/HUgHYi",
      "include_colab_link": true
    },
    "kernelspec": {
      "name": "python3",
      "display_name": "Python 3"
    },
    "language_info": {
      "name": "python"
    }
  },
  "cells": [
    {
      "cell_type": "markdown",
      "metadata": {
        "id": "view-in-github",
        "colab_type": "text"
      },
      "source": [
        "<a href=\"https://colab.research.google.com/github/aamirigithub/AI4Cyber/blob/main/Exam2_Q2_File.ipynb\" target=\"_parent\"><img src=\"https://colab.research.google.com/assets/colab-badge.svg\" alt=\"Open In Colab\"/></a>"
      ]
    },
    {
      "cell_type": "code",
      "execution_count": 3,
      "metadata": {
        "colab": {
          "base_uri": "https://localhost:8080/"
        },
        "id": "6omQHGqanlWQ",
        "outputId": "888bb1b8-6467-4a81-ec73-70122d6a35d1"
      },
      "outputs": [
        {
          "output_type": "stream",
          "name": "stdout",
          "text": [
            "              precision    recall  f1-score   support\n",
            "\n",
            "      benign       0.99      1.00      1.00     68921\n",
            "   malicious       1.00      0.98      0.99     21115\n",
            "\n",
            "    accuracy                           1.00     90036\n",
            "   macro avg       1.00      0.99      0.99     90036\n",
            "weighted avg       1.00      1.00      1.00     90036\n",
            "\n"
          ]
        }
      ],
      "source": [
        "# Import necessary libraries\n",
        "import pandas as pd\n",
        "from sklearn.model_selection import train_test_split\n",
        "from sklearn.feature_extraction.text import CountVectorizer\n",
        "from sklearn.naive_bayes import MultinomialNB\n",
        "from sklearn.metrics import classification_report, confusion_matrix\n",
        "from sklearn.metrics import accuracy_score\n",
        "\n",
        "# Load the phishing dataset\n",
        "data = pd.read_csv(\"Malicious And Benign URLs.csv\")\n",
        "\n",
        "# Split the data into training and testing sets\n",
        "X_train, X_test, y_train, y_test = train_test_split(data[\"url\"], data[\"type\"], test_size=0.2, random_state=42)\n",
        "\n",
        "# Transform the URLs into a matrix of token counts\n",
        "vectorizer = CountVectorizer()\n",
        "X_train_counts = vectorizer.fit_transform(X_train)\n",
        "X_test_counts = vectorizer.transform(X_test)\n",
        "\n",
        "# Train a Multinomial Naive Bayes classifier on the training data\n",
        "clf = MultinomialNB()\n",
        "clf.fit(X_train_counts, y_train)\n",
        "\n",
        "# Use the trained classifier to predict the types of URLs in the testing set\n",
        "y_pred = clf.predict(X_test_counts)\n",
        "\n",
        "# Print the classification report\n",
        "print(classification_report(X_test, y_pred))\n"
      ]
    },
    {
      "cell_type": "code",
      "source": [
        "# Privides the dataset file dimention in Rows x Columns\n",
        "print(data.shape) \n",
        "\n",
        "# Load the data as table\n",
        "data.head()\n",
        "\n",
        "# Number of counts for type column\n",
        "data.type.value_counts()"
      ],
      "metadata": {
        "colab": {
          "base_uri": "https://localhost:8080/"
        },
        "id": "qKZ4OlHstQSQ",
        "outputId": "dcb561a6-cc62-4f2b-b21f-e30b15b6491f"
      },
      "execution_count": 10,
      "outputs": [
        {
          "output_type": "stream",
          "name": "stdout",
          "text": [
            "(450176, 2)\n"
          ]
        },
        {
          "output_type": "execute_result",
          "data": {
            "text/plain": [
              "benign       345738\n",
              "malicious    104438\n",
              "Name: type, dtype: int64"
            ]
          },
          "metadata": {},
          "execution_count": 10
        }
      ]
    },
    {
      "cell_type": "code",
      "source": [
        "ax = sns.countplot(x =\"type\", data=data, palette=\"pastel\", edgecolor=\".1\")"
      ],
      "metadata": {
        "colab": {
          "base_uri": "https://localhost:8080/",
          "height": 449
        },
        "id": "SfLrWX1RfFiu",
        "outputId": "e9b528d5-7ef3-43bd-e5b0-bbb684863a46"
      },
      "execution_count": 24,
      "outputs": [
        {
          "output_type": "display_data",
          "data": {
            "text/plain": [
              "<Figure size 640x480 with 1 Axes>"
            ],
            "image/png": "[encoded data removed]"
          },
          "metadata": {}
        }
      ]
    },
    {
      "cell_type": "code",
      "source": [
        "# Test the classifier on the testing data\n",
        "accuracy = clf.score(X_test_counts, y_pred)\n",
        "print(\"Accuracy: %0.3f\" % accuracy)"
      ],
      "metadata": {
        "colab": {
          "base_uri": "https://localhost:8080/"
        },
        "id": "r7SPJF0lc8kN",
        "outputId": "e2c85d3f-6559-41aa-c020-df824b0aea6c"
      },
      "execution_count": 20,
      "outputs": [
        {
          "output_type": "stream",
          "name": "stdout",
          "text": [
            "Accuracy: 1.000\n"
          ]
        }
      ]
    },
    {
      "cell_type": "code",
      "source": [
        "# Statistical Data Visualization\n",
        "import seaborn as sns\n",
        "\n",
        "# Generate the confusion matrix and plot it\n",
        "cm = confusion_matrix(y_test, y_pred)\n",
        "sns.heatmap(cm, annot=True, cmap=\"Blues\")\n",
        "#plt.show()"
      ],
      "metadata": {
        "colab": {
          "base_uri": "https://localhost:8080/",
          "height": 447
        },
        "id": "82s1r8zgs5Hs",
        "outputId": "6f5df01e-b799-450c-9425-74ac599e208d"
      },
      "execution_count": 22,
      "outputs": [
        {
          "output_type": "execute_result",
          "data": {
            "text/plain": [
              "<Axes: >"
            ]
          },
          "metadata": {},
          "execution_count": 22
        },
        {
          "output_type": "display_data",
          "data": {
            "text/plain": [
              "<Figure size 640x480 with 2 Axes>"
            ],
            "image/png": "[encoded data removed]"
          },
          "metadata": {}
        }
      ]
    },
    {
      "cell_type": "code",
      "source": [
        "# Predict the type of a new URL using the trained classifier\n",
        "new_url = \"https://example.com/login.php\"\n",
        "new_url_features = vectorizer.transform([new_url])\n",
        "prediction = clf.predict(new_url_features)\n",
        "print(\"Prediction:\", prediction)"
      ],
      "metadata": {
        "colab": {
          "base_uri": "https://localhost:8080/"
        },
        "id": "l98aa9rquwLR",
        "outputId": "f01db50c-acd4-4225-b55e-e0dc5604b1d3"
      },
      "execution_count": 21,
      "outputs": [
        {
          "output_type": "stream",
          "name": "stdout",
          "text": [
            "Prediction: ['malicious']\n"
          ]
        }
      ]
    }
  ]
}